{
 "cells": [
  {
   "cell_type": "code",
   "execution_count": 10,
   "metadata": {},
   "outputs": [],
   "source": [
    "import pandas as pd\n",
    "import numpy as np\n",
    "import tensorflow as tf\n",
    "import theano \n",
    "import tensorflow.keras as keras\n",
    "import tensorflow as tf \n",
    "\n"
   ]
  },
  {
   "cell_type": "code",
   "execution_count": 2,
   "metadata": {},
   "outputs": [
    {
     "data": {
      "text/html": [
       "<div>\n",
       "<style scoped>\n",
       "    .dataframe tbody tr th:only-of-type {\n",
       "        vertical-align: middle;\n",
       "    }\n",
       "\n",
       "    .dataframe tbody tr th {\n",
       "        vertical-align: top;\n",
       "    }\n",
       "\n",
       "    .dataframe thead th {\n",
       "        text-align: right;\n",
       "    }\n",
       "</style>\n",
       "<table border=\"1\" class=\"dataframe\">\n",
       "  <thead>\n",
       "    <tr style=\"text-align: right;\">\n",
       "      <th></th>\n",
       "      <th>Unnamed: 0</th>\n",
       "      <th>UTR</th>\n",
       "      <th>growth_rate</th>\n",
       "      <th>t0</th>\n",
       "      <th>t1</th>\n",
       "    </tr>\n",
       "  </thead>\n",
       "  <tbody>\n",
       "    <tr>\n",
       "      <th>0</th>\n",
       "      <td>0</td>\n",
       "      <td>AAAAAAAAAACATAATAACGATGATCAGTTAAAATCATAGTCTAAG...</td>\n",
       "      <td>-1.237065</td>\n",
       "      <td>14</td>\n",
       "      <td>3</td>\n",
       "    </tr>\n",
       "    <tr>\n",
       "      <th>1</th>\n",
       "      <td>1</td>\n",
       "      <td>AAAAAAAAAAGACTACAACAGATTGTAGTGGCGGACCAGTGTGCCT...</td>\n",
       "      <td>1.288663</td>\n",
       "      <td>14</td>\n",
       "      <td>49</td>\n",
       "    </tr>\n",
       "    <tr>\n",
       "      <th>2</th>\n",
       "      <td>2</td>\n",
       "      <td>AAAAAAAAAATATGGGGCCCTGTTCCAAAGATACCTCAATTTCATA...</td>\n",
       "      <td>-0.608457</td>\n",
       "      <td>13</td>\n",
       "      <td>6</td>\n",
       "    </tr>\n",
       "    <tr>\n",
       "      <th>3</th>\n",
       "      <td>3</td>\n",
       "      <td>AAAAAAAAAATCTCTGGCCCGATTATACTGGAGCTAATGTAAAATT...</td>\n",
       "      <td>-1.093964</td>\n",
       "      <td>12</td>\n",
       "      <td>3</td>\n",
       "    </tr>\n",
       "    <tr>\n",
       "      <th>4</th>\n",
       "      <td>4</td>\n",
       "      <td>AAAAAAAAACATAAATATGAAGGCCTGACATTATAAATAACTTACC...</td>\n",
       "      <td>-0.048841</td>\n",
       "      <td>7</td>\n",
       "      <td>6</td>\n",
       "    </tr>\n",
       "  </tbody>\n",
       "</table>\n",
       "</div>"
      ],
      "text/plain": [
       "   Unnamed: 0                                                UTR  growth_rate  \\\n",
       "0           0  AAAAAAAAAACATAATAACGATGATCAGTTAAAATCATAGTCTAAG...    -1.237065   \n",
       "1           1  AAAAAAAAAAGACTACAACAGATTGTAGTGGCGGACCAGTGTGCCT...     1.288663   \n",
       "2           2  AAAAAAAAAATATGGGGCCCTGTTCCAAAGATACCTCAATTTCATA...    -0.608457   \n",
       "3           3  AAAAAAAAAATCTCTGGCCCGATTATACTGGAGCTAATGTAAAATT...    -1.093964   \n",
       "4           4  AAAAAAAAACATAAATATGAAGGCCTGACATTATAAATAACTTACC...    -0.048841   \n",
       "\n",
       "   t0  t1  \n",
       "0  14   3  \n",
       "1  14  49  \n",
       "2  13   6  \n",
       "3  12   3  \n",
       "4   7   6  "
      ]
     },
     "execution_count": 2,
     "metadata": {},
     "output_type": "execute_result"
    }
   ],
   "source": [
    "#NativeUTRs=pd.read_csv(\"/Users/harrys/Downloads/Supplemental_code/Data/Native_UTRs.csv\")\n",
    "RandUTRs=pd.read_csv(\"/Users/harrys/Downloads/Supplemental_code/Data/Random_UTRs.csv\").head(1000)\n",
    "#NativeUTRs.head()\n",
    "RandUTRs.head()"
   ]
  },
  {
   "cell_type": "code",
   "execution_count": 46,
   "metadata": {},
   "outputs": [
    {
     "name": "stdout",
     "output_type": "stream",
     "text": [
      "0,\n"
     ]
    }
   ],
   "source": [
    "def one_hot_encoding(df, seq_column, expression):\n",
    "    \n",
    "    bases = ['A','C','G','T']\n",
    "    base_dict = dict(zip(bases,range(4))) # {'A' : 0, 'C' : 1, 'G' : 2, 'T' : 3}\n",
    "\n",
    "    n = len(df)\n",
    "    \n",
    "    # length of the UTR sequence\n",
    "    # we also add 10 empty spaces to either side\n",
    "    total_width = df[seq_column].str.len().max() + 20\n",
    "    \n",
    "    # initialize an empty numpy ndarray of the appropriate size\n",
    "    X = np.zeros((n, 1, 4, total_width))\n",
    "    \n",
    "    # an array with the sequences that we will one-hot encode\n",
    "    seqs = df[seq_column].values\n",
    "    \n",
    "    # loop through the array of sequences to create an array that keras will actually read\n",
    "    for i in range(n):\n",
    "        seq = seqs[i]\n",
    "        \n",
    "        # loop through each individual sequence, from the 5' to 3' end\n",
    "        for b in range(len(seq)):\n",
    "            # this will assign a 1 to the appropriate base and position for this UTR sequence\n",
    "            X[i, 0, base_dict[seq[b]], int(b + round((total_width - len(seq))/2.))] = 1.\n",
    "    \n",
    "        # keep track of where we are\n",
    "        if (i%10000)==0:\n",
    "            print(str(i)+\",\")\n",
    "        \n",
    "    #X = X.astype(theano.config.floatX)\n",
    "    X = X.astype('float32')\n",
    "    Y = np.asarray(df[expression].values,\n",
    "                   dtype = 'float32')[:, np.newaxis]\n",
    "    \n",
    "    return X, Y, total_width\n",
    "X,Y,total_width = one_hot_encoding(RandUTRs,\"UTR\",\"growth_rate\")"
   ]
  },
  {
   "cell_type": "code",
   "execution_count": 47,
   "metadata": {},
   "outputs": [
    {
     "name": "stdout",
     "output_type": "stream",
     "text": [
      "<class 'numpy.float32'>\n"
     ]
    },
    {
     "data": {
      "text/plain": [
       "numpy.ndarray"
      ]
     },
     "execution_count": 47,
     "metadata": {},
     "output_type": "execute_result"
    }
   ],
   "source": [
    "#dict(zip(['A','C','G','T'],range(4)))\n",
    "#      ,,# of sequences = 1000,total_width = 70 \n",
    "#np.zeros((10,1,4,6))\n",
    "    #why have \"1\" as second dimension \n",
    "#RandUTRs[\"UTR\"][0]\n",
    "\n",
    "#Z= np.zeros((5,4,70))\n",
    "#Z[0,1,]\n",
    "\n",
    "#b+(70-50)/2\n",
    "#help(X.astype)\n",
    "#z= tf.keras.backend.cast_to_floatx(X)\n",
    "#type(z[0][0][0][0])\n",
    "print(type(X[0][0][0][0]))\n",
    "\n",
    "#X=tf.dtypes.cast(X, tf.float64)\n",
    "type(Y[0])\n",
    "#theano.config.floatX\n"
   ]
  },
  {
   "cell_type": "code",
   "execution_count": 12,
   "metadata": {},
   "outputs": [],
   "source": [
    "import random \n",
    "# a sorted numpy array of UTR indexes, from least reads to most reads\n",
    "sorted_inds = RandUTRs.sort_values('t0').index.values\n",
    "\n",
    "\n",
    "train_inds = sorted_inds[:int(0.95*len(sorted_inds))] # 95% of the data as the training set\n",
    "\n",
    "\n",
    "test_inds = sorted_inds[int(0.95*len(sorted_inds)):] # UTRs with most reads at time point 0 as the test set\n",
    "\n",
    "# set the seed before randomly shuffling the data\n",
    "seed = 0.5\n",
    "random.shuffle(train_inds, lambda :seed)"
   ]
  },
  {
   "cell_type": "code",
   "execution_count": 7,
   "metadata": {},
   "outputs": [
    {
     "ename": "NameError",
     "evalue": "name 'hp' is not defined",
     "output_type": "error",
     "traceback": [
      "\u001b[0;31m---------------------------------------------------------------------------\u001b[0m",
      "\u001b[0;31mNameError\u001b[0m                                 Traceback (most recent call last)",
      "\u001b[0;32m<ipython-input-7-91408a34e258>\u001b[0m in \u001b[0;36m<module>\u001b[0;34m\u001b[0m\n\u001b[0;32m----> 1\u001b[0;31m space = {   'conv_width': hp.choice('conv_width', [9, 13, 17, 25]), #\n\u001b[0m\u001b[1;32m      2\u001b[0m             \u001b[0;34m'conv_filters'\u001b[0m\u001b[0;34m:\u001b[0m \u001b[0mhp\u001b[0m\u001b[0;34m.\u001b[0m\u001b[0mchoice\u001b[0m\u001b[0;34m(\u001b[0m\u001b[0;34m'conv_filters'\u001b[0m\u001b[0;34m,\u001b[0m \u001b[0;34m[\u001b[0m\u001b[0;36m32\u001b[0m\u001b[0;34m,\u001b[0m \u001b[0;36m64\u001b[0m\u001b[0;34m,\u001b[0m \u001b[0;36m128\u001b[0m\u001b[0;34m,\u001b[0m \u001b[0;36m256\u001b[0m\u001b[0;34m]\u001b[0m\u001b[0;34m)\u001b[0m\u001b[0;34m,\u001b[0m \u001b[0;31m#\u001b[0m\u001b[0;34m\u001b[0m\u001b[0;34m\u001b[0m\u001b[0m\n\u001b[1;32m      3\u001b[0m             \u001b[0;34m'conv_layers'\u001b[0m\u001b[0;34m:\u001b[0m \u001b[0mhp\u001b[0m\u001b[0;34m.\u001b[0m\u001b[0mchoice\u001b[0m\u001b[0;34m(\u001b[0m\u001b[0;34m'conv_layers'\u001b[0m\u001b[0;34m,\u001b[0m \u001b[0;34m[\u001b[0m\u001b[0;36m2\u001b[0m\u001b[0;34m,\u001b[0m \u001b[0;36m3\u001b[0m\u001b[0;34m,\u001b[0m \u001b[0;36m4\u001b[0m\u001b[0;34m]\u001b[0m\u001b[0;34m)\u001b[0m\u001b[0;34m,\u001b[0m \u001b[0;31m#\u001b[0m\u001b[0;34m\u001b[0m\u001b[0;34m\u001b[0m\u001b[0m\n\u001b[1;32m      4\u001b[0m             \u001b[0;34m'dense_layers'\u001b[0m\u001b[0;34m:\u001b[0m \u001b[0mhp\u001b[0m\u001b[0;34m.\u001b[0m\u001b[0mchoice\u001b[0m\u001b[0;34m(\u001b[0m\u001b[0;34m'dense_layers'\u001b[0m\u001b[0;34m,\u001b[0m \u001b[0;34m[\u001b[0m\u001b[0;36m1\u001b[0m\u001b[0;34m,\u001b[0m \u001b[0;36m2\u001b[0m\u001b[0;34m]\u001b[0m\u001b[0;34m)\u001b[0m\u001b[0;34m,\u001b[0m \u001b[0;31m#\u001b[0m\u001b[0;34m\u001b[0m\u001b[0;34m\u001b[0m\u001b[0m\n\u001b[1;32m      5\u001b[0m             \u001b[0;34m'conv_dropout'\u001b[0m\u001b[0;34m:\u001b[0m \u001b[0mhp\u001b[0m\u001b[0;34m.\u001b[0m\u001b[0mchoice\u001b[0m\u001b[0;34m(\u001b[0m\u001b[0;34m'conv_dropout'\u001b[0m\u001b[0;34m,\u001b[0m  \u001b[0;34m[\u001b[0m\u001b[0;32mNone\u001b[0m\u001b[0;34m,\u001b[0m \u001b[0;36m0.15\u001b[0m\u001b[0;34m]\u001b[0m\u001b[0;34m)\u001b[0m\u001b[0;34m,\u001b[0m \u001b[0;31m#\u001b[0m\u001b[0;34m\u001b[0m\u001b[0;34m\u001b[0m\u001b[0m\n",
      "\u001b[0;31mNameError\u001b[0m: name 'hp' is not defined"
     ]
    }
   ],
   "source": [
    "space = {   'conv_width': hp.choice('conv_width', [9, 13, 17, 25]), #\n",
    "            'conv_filters': hp.choice('conv_filters', [32, 64, 128, 256]), #\n",
    "            'conv_layers': hp.choice('conv_layers', [2, 3, 4]), #\n",
    "            'dense_layers': hp.choice('dense_layers', [1, 2]), #\n",
    "            'conv_dropout': hp.choice('conv_dropout',  [None, 0.15]), # \n",
    "            'dense_dropout': hp.choice('dense_dropout', [None, 0.1, 0.25, 0.5]), \n",
    "            'dense_units': hp.choice('dense_units', [32, 64, 128, 256]), #\n",
    "        }"
   ]
  },
  {
   "cell_type": "code",
   "execution_count": null,
   "metadata": {},
   "outputs": [],
   "source": [
    "def create_model(params):\n",
    "    model = Sequential()\n",
    "    model.add(Convolution2D(params['conv_filters'],\n",
    "                            4,\n",
    "                            params['conv_width'],\n",
    "                            border_mode = 'valid',\n",
    "                            input_shape = (1, 4, total_width),\n",
    "                            activation = 'relu'))\n",
    "    \n",
    "    # add dropout at the convolutional layers if appropriate\n",
    "    if params['conv_dropout']:\n",
    "        model.add(Dropout(p = params['conv_dropout']))\n",
    "    \n",
    "    # add the appropriate number of additional convolutional layers, along with dropout\n",
    "    for i in range(params['conv_layers'] - 1):\n",
    "        model.add(Convolution2D(params['conv_filters'],\n",
    "                                1,\n",
    "                                params['conv_width'],\n",
    "                                border_mode = 'same',\n",
    "                                activation = 'relu'))\n",
    "        \n",
    "        if params['conv_dropout']:\n",
    "            model.add(Dropout(params['conv_dropout']))\n",
    "    \n",
    "    model.add(Flatten())\n",
    "    \n",
    "    # add the appropriate number of dense layers and dropout\n",
    "    for i in range(params['dense_layers']):\n",
    "        model.add(Dense(output_dim = params['dense_units'],\n",
    "                        activation = 'relu'))\n",
    "        \n",
    "        if params['dense_dropout']:\n",
    "            model.add(Dropout(p = params['dense_dropout']))\n",
    "    \n",
    "    # add the output layer, since we want to predict the \"growth rate\" we only want a single \n",
    "    # number, hence the single dimension\n",
    "    model.add(Dense(output_dim = 1))\n",
    "    \n",
    "    # compile the model\n",
    "    model.compile(loss = 'mean_squared_error',\n",
    "                  optimizer = 'adam',\n",
    "                  metrics = ['mean_squared_error'])\n",
    "    \n",
    "    return model"
   ]
  },
  {
   "cell_type": "code",
   "execution_count": null,
   "metadata": {},
   "outputs": [],
   "source": [
    "\n"
   ]
  },
  {
   "cell_type": "code",
   "execution_count": null,
   "metadata": {},
   "outputs": [],
   "source": []
  },
  {
   "cell_type": "code",
   "execution_count": null,
   "metadata": {},
   "outputs": [],
   "source": []
  }
 ],
 "metadata": {
  "kernelspec": {
   "display_name": "Python 3",
   "language": "python",
   "name": "python3"
  },
  "language_info": {
   "codemirror_mode": {
    "name": "ipython",
    "version": 3
   },
   "file_extension": ".py",
   "mimetype": "text/x-python",
   "name": "python",
   "nbconvert_exporter": "python",
   "pygments_lexer": "ipython3",
   "version": "3.7.3"
  }
 },
 "nbformat": 4,
 "nbformat_minor": 2
}
