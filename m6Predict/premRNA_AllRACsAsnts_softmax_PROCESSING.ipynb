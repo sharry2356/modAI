{
 "cells": [
  {
   "cell_type": "code",
   "execution_count": null,
   "metadata": {},
   "outputs": [],
   "source": [
    "from m6predictFunctions import *"
   ]
  },
  {
   "cell_type": "code",
   "execution_count": null,
   "metadata": {},
   "outputs": [],
   "source": [
    "#change checklist\n",
    "    #getInpMtrx and getTgtMtrx functions (genome flank and multiclass logical) (2 times for trn and tst)\n",
    "    #categorical_crossentropy_2d function number of classes if allnts used \n",
    "    #change model output filter size if allnts used\n",
    "    #change model output activation func to sigmoid if multiclass is True \n",
    "    #change number in list to just [0,1] for TkandPR and writeaccs to just produce 0 and 1 if allnts used "
   ]
  },
  {
   "cell_type": "code",
   "execution_count": null,
   "metadata": {},
   "outputs": [],
   "source": [
    "#Processing data \n",
    "    #need diff chrom numbs\n",
    "#make sure to change classes \n",
    "#AllRACs\n",
    "trxts = processGff(\"../gencode.vM10.annotation.gtf\")\n",
    "trxts = ExpressionSub(trxts,\"../GSM2300432_RPKM_genes_WT0hr_mm10.txt\")\n",
    "\n",
    "trnTrxts = subChroms(trxts,[2,4,6,8,'X','Y']+list(range(10,20)))\n",
    "trnInpMtxs = getInputMtxs(\"../GRCm38.p4.genome.fa\",trnTrxts)\n",
    "trnTgtMtxs = getTargetMtxs_AllRACs(trnTrxts,trnInpMtxs,\n",
    "                           '../GSM2300430_precise_m6A_sites_mESC_mm10.bed',False)\n",
    "Mtxs_toH5Blocks(trnInpMtxs,trnTgtMtxs,10000,100,'train')\n",
    "\n",
    "tstTrxts = subChroms(trxts,[1,3,5,7,9])\n",
    "#tstTrxts = rmPseudoGns(tstTrxts,\"../JaganathanRecreateFOLDER/mart_export.txt\")\n",
    "tstInpMtxs = getInputMtxs(\"../GRCm38.p4.genome.fa\",tstTrxts)\n",
    "tstTgtMtxs = getTargetMtxs_AllRACs(tstTrxts,tstInpMtxs,\n",
    "                           '../GSM2300430_precise_m6A_sites_mESC_mm10.bed',False)\n",
    "Mtxs_toH5Blocks(tstInpMtxs,tstTgtMtxs,10000,100,'test')"
   ]
  },
  {
   "cell_type": "code",
   "execution_count": null,
   "metadata": {},
   "outputs": [],
   "source": [
    "#Processing data \n",
    "    #need diff chrom numbs\n",
    "#make sure to change classes \n",
    "#AllAs\n",
    "trxts = processGff(\"../gencode.vM10.annotation.gtf\")\n",
    "trxts = ExpressionSub(trxts,\"../GSM2300432_RPKM_genes_WT0hr_mm10.txt\")\n",
    "\n",
    "trnTrxts = subChroms(trxts,[2,4,6,8,'X','Y']+list(range(10,20)))\n",
    "trnInpMtxs = getInputMtxs(\"../GRCm38.p4.genome.fa\",trnTrxts)\n",
    "trnTgtMtxs = getTargetMtxs_AllAs(trnTrxts,trnInpMtxs,\n",
    "                           '../GSM2300430_precise_m6A_sites_mESC_mm10.bed',False)\n",
    "Mtxs_toH5Blocks(trnInpMtxs,trnTgtMtxs,10000,100,'train')\n",
    "\n",
    "tstTrxts = subChroms(trxts,[1,3,5,7,9])\n",
    "#tstTrxts = rmPseudoGns(tstTrxts,\"../JaganathanRecreateFOLDER/mart_export.txt\")\n",
    "tstInpMtxs = getInputMtxs(\"../GRCm38.p4.genome.fa\",tstTrxts)\n",
    "tstTgtMtxs = getTargetMtxs_AllAs(tstTrxts,tstInpMtxs,\n",
    "                           '../GSM2300430_precise_m6A_sites_mESC_mm10.bed',False)\n",
    "Mtxs_toH5Blocks(tstInpMtxs,tstTgtMtxs,10000,100,'test')"
   ]
  },
  {
   "cell_type": "code",
   "execution_count": null,
   "metadata": {},
   "outputs": [],
   "source": [
    "#Processing data \n",
    "    #need diff chrom numbs\n",
    "#make sure to change classes \n",
    "#Allnts\n",
    "trxts = processGff(\"../gencode.vM10.annotation.gtf\")\n",
    "trxts = ExpressionSub(trxts,\"../GSM2300432_RPKM_genes_WT0hr_mm10.txt\")\n",
    "\n",
    "trnTrxts = subChroms(trxts,[2,4,6,8,'X','Y']+list(range(10,20)))\n",
    "trnInpMtxs = getInputMtxs(\"../GRCm38.p4.genome.fa\",trnTrxts)\n",
    "trnTgtMtxs = getTargetMtxs_Allnts(trnTrxts,trnInpMtxs,\n",
    "                           '../GSM2300430_precise_m6A_sites_mESC_mm10.bed')\n",
    "Mtxs_toH5Blocks(trnInpMtxs,trnTgtMtxs,10000,100,'train')\n",
    "\n",
    "tstTrxts = subChroms(trxts,[1,3,5,7,9])\n",
    "#tstTrxts = rmPseudoGns(tstTrxts,\"../mart_export.txt\")\n",
    "tstInpMtxs = getInputMtxs(\"../GRCm38.p4.genome.fa\",tstTrxts)\n",
    "tstTgtMtxs = getTargetMtxs_Allnts(tstTrxts,tstInpMtxs,\n",
    "                           '../GSM2300430_precise_m6A_sites_mESC_mm10.bed')\n",
    "Mtxs_toH5Blocks(tstInpMtxs,tstTgtMtxs,10000,100,'test')"
   ]
  }
 ],
 "metadata": {
  "kernelspec": {
   "display_name": "Python 3",
   "language": "python",
   "name": "python3"
  },
  "language_info": {
   "codemirror_mode": {
    "name": "ipython",
    "version": 3
   },
   "file_extension": ".py",
   "mimetype": "text/x-python",
   "name": "python",
   "nbconvert_exporter": "python",
   "pygments_lexer": "ipython3",
   "version": "3.7.3"
  }
 },
 "nbformat": 4,
 "nbformat_minor": 2
}
