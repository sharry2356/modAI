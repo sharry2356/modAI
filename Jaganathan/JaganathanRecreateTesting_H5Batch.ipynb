{
 "cells": [
  {
   "cell_type": "code",
   "execution_count": null,
   "metadata": {},
   "outputs": [],
   "source": [
    "#Import Functions\n",
    "from JaganathanRecreateFuncs_H5Batch import * "
   ]
  },
  {
   "cell_type": "code",
   "execution_count": null,
   "metadata": {},
   "outputs": [],
   "source": [
    "#set variables\n",
    "modelFlank=400"
   ]
  },
  {
   "cell_type": "code",
   "execution_count": null,
   "metadata": {},
   "outputs": [],
   "source": [
    "#test\n",
    "halfFlank=modelFlank/2 \n",
    "\n",
    "InpF=h5py.File('Inp_test.h5','r')\n",
    "TgtF=h5py.File('Tgt_test.h5','r')\n",
    "\n",
    "X=[]\n",
    "Y=[]\n",
    "for k in InpF.keys():\n",
    "    X.append(InpF[k][:,5000-halfFlank:-5000+halfFlank])\n",
    "    Y.append(TgtF[k][:])\n",
    "tstInpBlocks=np.concatenate(X,axis=0)\n",
    "tstTgtBlocks=np.concatenate(Y,axis=0)\n",
    "\n",
    "model=load_model('model_weights_BEST.h5')\n",
    "\n",
    "#calculate top-k and PR-AUC accuracies for SDs and SAs (seperatly)\n",
    "\n",
    "p=model.predict(tstInpBlocks)\n",
    "print(p.shape,tstInpBlocks.shape,tstTgtBlocks.shape)\n",
    "\n",
    "Tks=[]\n",
    "PRs=[]\n",
    "for c in [1,2]:\n",
    "    Fullc=tstTgtBlocks[:,:,c].flatten()\n",
    "    S=[i for i in range(len(Fullc)) if Fullc[i] == 1]\n",
    "    pS=np.argsort(p[:,:,c].flatten())[-len(S):]\n",
    "    pS=pd.Series(pS)\n",
    "    nCrct=pS[pS.isin(S)].size\n",
    "    Tk=nCrct/len(S)\n",
    "    Tks.append(Tk)\n",
    "    \n",
    "    PR=average_precision_score(Fullc,p[:,:,c].flatten())\n",
    "    PRs.append(PR)\n",
    "writeAccs=str(Tks[0])+','+str(Tks[1])+','+str(PRs[0])+','+str(PRs[1])\n",
    "open('Tks_PRs.txt', 'w').write(writeAccs)"
   ]
  },
  {
   "cell_type": "code",
   "execution_count": null,
   "metadata": {},
   "outputs": [],
   "source": [
    "# graph Precision Recall of Splice Acceptors sites\n",
    "precision, recall, _ = precision_recall_curve(tstTgtBlocks[:,:,1].flatten(),p[:,:,1].flatten())\n",
    "\n",
    "\n",
    "plt.step(recall, precision, color='b', alpha=0.2,\n",
    "         where='post')\n",
    "plt.fill_between(recall, precision, alpha=0.2, color='b')\n",
    "plt.plot([0,1],[PRs[0],PRs[0]])\n",
    "\n",
    "plt.xlabel('Recall')\n",
    "plt.ylabel('Precision')\n",
    "plt.ylim([0.0, 1.05])\n",
    "plt.xlim([0.0, 1.0])\n",
    "plt.title('Splice Acceptor Sites')\n",
    "\n",
    "plt.savefig('SA.png')"
   ]
  },
  {
   "cell_type": "code",
   "execution_count": null,
   "metadata": {},
   "outputs": [],
   "source": [
    "# graph Precision Recall of Splice Donor sites\n",
    "plt.figure()\n",
    "\n",
    "precision, recall, _ = precision_recall_curve(tstTgtBlocks[:,:,2].flatten(),p[:,:,2].flatten())\n",
    "\n",
    "\n",
    "plt.step(recall, precision, color='b', alpha=0.2,\n",
    "         where='post')\n",
    "plt.fill_between(recall, precision, alpha=0.2, color='b')\n",
    "plt.plot([0,1],[PRs[1],PRs[1]])\n",
    "\n",
    "plt.xlabel('Recall')\n",
    "plt.ylabel('Precision')\n",
    "plt.ylim([0.0, 1.05])\n",
    "plt.xlim([0.0, 1.0])\n",
    "plt.title('Splice Donor Sites')\n",
    "\n",
    "plt.savefig('SD.png')"
   ]
  }
 ],
 "metadata": {
  "kernelspec": {
   "display_name": "Python 3",
   "language": "python",
   "name": "python3"
  },
  "language_info": {
   "codemirror_mode": {
    "name": "ipython",
    "version": 3
   },
   "file_extension": ".py",
   "mimetype": "text/x-python",
   "name": "python",
   "nbconvert_exporter": "python",
   "pygments_lexer": "ipython3",
   "version": "3.7.3"
  }
 },
 "nbformat": 4,
 "nbformat_minor": 2
}
