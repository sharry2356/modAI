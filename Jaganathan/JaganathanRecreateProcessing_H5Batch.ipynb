{
 "cells": [
  {
   "cell_type": "code",
   "execution_count": null,
   "metadata": {},
   "outputs": [],
   "source": [
    "#IMPORT FUNCTIONS\n",
    "from JaganathanRecreateFuncs_H5Batch import *"
   ]
  },
  {
   "cell_type": "code",
   "execution_count": null,
   "metadata": {},
   "outputs": [],
   "source": [
    "#Processing data \n",
    "trxts,exons = processGff('../Jag80/gencode.v24lift37.annotation.gff3')\n",
    "trnTrxts,trnExons = subChroms(trxts,exons,[2,4,6,8,'X','Y']+list(range(10,23)))\n",
    "trnInpMtxs = getInputMtxs(\"../Jag80/GRCh37.primary_assembly.genome.fa\",trnTrxts)\n",
    "trnTgtMtxs = getTargetMtxs(trnTrxts,trnInpMtxs,trnExons)\n",
    "Mtxs_toH5Blocks(trnInpMtxs,trnTgtMtxs,10000,100,'train')\n",
    "\n",
    "tstTrxts,tstExons = subChroms(trxts,exons,[1,3,5,7,9])\n",
    "tstTrxts,tstExons = rmPseudoGns(tstTrxts,tstExons,\"../Jag80/mart_export.txt\")\n",
    "tstInpMtxs = getInputMtxs(\"../Jag80/GRCh37.primary_assembly.genome.fa\",tstTrxts)\n",
    "tstTgtMtxs = getTargetMtxs(tstTrxts,tstInpMtxs,tstExons)\n",
    "Mtxs_toH5Blocks(tstInpMtxs,tstTgtMtxs,10000,100,'test')"
   ]
  }
 ],
 "metadata": {
  "kernelspec": {
   "display_name": "Python 3",
   "language": "python",
   "name": "python3"
  },
  "language_info": {
   "codemirror_mode": {
    "name": "ipython",
    "version": 3
   },
   "file_extension": ".py",
   "mimetype": "text/x-python",
   "name": "python",
   "nbconvert_exporter": "python",
   "pygments_lexer": "ipython3",
   "version": "3.7.3"
  }
 },
 "nbformat": 4,
 "nbformat_minor": 2
}
