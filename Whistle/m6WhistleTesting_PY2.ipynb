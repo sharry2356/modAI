{
 "cells": [
  {
   "cell_type": "code",
   "execution_count": null,
   "metadata": {},
   "outputs": [],
   "source": [
    "#IMPORT FUNCTIONS\n",
    "from m6Predict_WhistleFunctions import *\n",
    "import matplotlib.pyplot as plt\n",
    "plt.switch_backend('agg')"
   ]
  },
  {
   "cell_type": "code",
   "execution_count": null,
   "metadata": {},
   "outputs": [],
   "source": [
    "#set variables\n",
    "modelFlank=80\n",
    "numOut_Classes=1\n",
    "GPU=2\n",
    "modelFn='model_weights_BEST.h5'\n",
    "#add GPU "
   ]
  },
  {
   "cell_type": "code",
   "execution_count": null,
   "metadata": {},
   "outputs": [],
   "source": [
    "#test\n",
    "halfFlank=int(modelFlank/2) \n",
    "\n",
    "InpF=h5py.File('Inp_test.h5','r')\n",
    "TgtF=h5py.File('Tgt_test.h5','r')\n",
    "\n",
    "X=[]\n",
    "Y=[]\n",
    "for k in InpF.keys():\n",
    "    X.append(InpF[k][:,5000-halfFlank:-5000+halfFlank])\n",
    "    Y.append(TgtF[k][:])\n",
    "tstInpBlocks=np.concatenate(X,axis=0)\n",
    "tstTgtBlocks=np.concatenate(Y,axis=0)\n",
    "\n",
    "rem = tstInpBlocks.shape[0] % GPU\n",
    "if rem != 0:\n",
    "    tstInpBlocks=tstInpBlocks[:-rem]\n",
    "    tstTgtBlocks=tstTgtBlocks[:-rem]\n",
    "\n",
    "model=load_model(modelFn,custom_objects={'tf':tf})\n",
    "#calculate top-k and PR-AUC accuracies for SDs and SAs (seperatly)\n",
    "\n",
    "p=model.predict(tstInpBlocks)\n",
    "print p.shape,tstInpBlocks.shape,tstTgtBlocks.shape\n",
    "\n",
    "Tks=[]\n",
    "PRs=[]\n",
    "if numOut_Classes > 1:\n",
    "    cRange=range(1,numOut_Classes)\n",
    "else:\n",
    "    cRange=[0]\n",
    "for c in cRange:\n",
    "    Fullc=tstTgtBlocks[:,:,c].flatten()\n",
    "    S=[i for i in range(len(Fullc)) if Fullc[i] == 1]\n",
    "    pS=np.argsort(p[:,:,c].flatten())[-len(S):]\n",
    "    pS=pd.Series(pS)\n",
    "    nCrct=pS[pS.isin(S)].size\n",
    "    Tk=nCrct/float(len(S))\n",
    "    Tks.append(Tk)\n",
    "    \n",
    "    PR=average_precision_score(Fullc,p[:,:,c].flatten())\n",
    "    PRs.append(PR)\n",
    "    if numOut_Classes < 3:\n",
    "        Tks.append(0.0)\n",
    "        PRs.append(0.0)\n",
    "writeAccs=str(Tks[0])+','+str(Tks[1])+','+str(PRs[0])+','+str(PRs[1])\n",
    "open('Tks_PRs.txt', 'w').write(writeAccs)"
   ]
  },
  {
   "cell_type": "code",
   "execution_count": null,
   "metadata": {},
   "outputs": [],
   "source": [
    "# graph Precision Recall of m6A sites\n",
    "precision, recall, _ = precision_recall_curve(tstTgtBlocks[:,:,0].flatten(),p[:,:,0].flatten())\n",
    "\n",
    "\n",
    "plt.step(recall, precision, color='b', alpha=0.2,\n",
    "         where='post')\n",
    "plt.fill_between(recall, precision, alpha=0.2, color='b')\n",
    "plt.plot([0,1],[PRs[0],PRs[0]])\n",
    "\n",
    "plt.xlabel('Recall')\n",
    "plt.ylabel('Precision')\n",
    "plt.ylim([0.0, 1.05])\n",
    "plt.xlim([0.0, 1.0])\n",
    "plt.title('m6A Sites')\n",
    "\n",
    "plt.savefig('m6A_Sites.png')"
   ]
  }
 ],
 "metadata": {
  "kernelspec": {
   "display_name": "Python 3",
   "language": "python",
   "name": "python3"
  },
  "language_info": {
   "codemirror_mode": {
    "name": "ipython",
    "version": 3
   },
   "file_extension": ".py",
   "mimetype": "text/x-python",
   "name": "python",
   "nbconvert_exporter": "python",
   "pygments_lexer": "ipython3",
   "version": "3.7.3"
  }
 },
 "nbformat": 4,
 "nbformat_minor": 2
}
