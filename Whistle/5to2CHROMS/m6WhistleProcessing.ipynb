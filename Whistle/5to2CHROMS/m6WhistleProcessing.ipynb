{
 "cells": [
  {
   "cell_type": "code",
   "execution_count": null,
   "metadata": {},
   "outputs": [],
   "source": [
    "from m6predict_WhistleFunctions import * "
   ]
  },
  {
   "cell_type": "code",
   "execution_count": 15,
   "metadata": {},
   "outputs": [
    {
     "name": "stdout",
     "output_type": "stream",
     "text": [
      "Inp_train.h5andTgt_train.h5created\n"
     ]
    }
   ],
   "source": [
    "trnInpMtxs_POS = getInputMtxs_DNA('/Users/harrys/Documents/JaganathanRecreateFOLDER/GRCh37.primary_assembly.genome.fa',\n",
    "                                  'TCM6A_df.tab',5000,[2,4,6,8,'X','Y']+list(range(10,23)))\n",
    "trnInpMtxs_NEG = getInputMtxs_DNA('/Users/harrys/Documents/JaganathanRecreateFOLDER/GRCh37.primary_assembly.genome.fa',\n",
    "                                  'TN.tab',5000,[2,4,6,8,'X','Y']+list(range(10,23)))\n",
    "trnInpMtxs = trnInpMtxs_POS+trnInpMtxs_NEG\n",
    "trnTgtMtxs = [1 for i in range(len(trnInpMtxs_POS))] + [0 for i in range(len(trnInpMtxs_NEG))]\n",
    "\n",
    "trnInpMtxs,trnTgtMtxs = randSubBlocks(trnInpMtxs,trnTgtMtxs)\n",
    "Mtxs_toH5Blocks(trnInpMtxs,trnTgtMtxs,100,'train')\n"
   ]
  },
  {
   "cell_type": "code",
   "execution_count": null,
   "metadata": {},
   "outputs": [],
   "source": [
    "tstInpMtxs_POS = getInputMtxs_DNA('/Users/harrys/Documents/JaganathanRecreateFOLDER/GRCh37.primary_assembly.genome.fa',\n",
    "                                  'TCM6A_df.tab',5000,[1,3,5,7,9])\n",
    "tstInpMtxs_NEG = getInputMtxs_DNA('/Users/harrys/Documents/JaganathanRecreateFOLDER/GRCh37.primary_assembly.genome.fa',\n",
    "                                  'TN.tab',5000,[1,3,5,7,9])\n",
    "tstInpMtxs = tstInpMtxs_POS+tstInpMtxs_NEG\n",
    "tstTgtMtxs = [1 for i in range(len(tstInpMtxs_POS))] + [0 for i in range(len(tstInpMtxs_NEG))]\n",
    "\n",
    "tstInpMtxs,tstTgtMtxs = randSubBlocks(tstInpMtxs,tstTgtMtxs)\n",
    "Mtxs_toH5Blocks(tstInpMtxs,tstTgtMtxs,100,'test')"
   ]
  }
 ],
 "metadata": {
  "kernelspec": {
   "display_name": "Python 3",
   "language": "python",
   "name": "python3"
  },
  "language_info": {
   "codemirror_mode": {
    "name": "ipython",
    "version": 3
   },
   "file_extension": ".py",
   "mimetype": "text/x-python",
   "name": "python",
   "nbconvert_exporter": "python",
   "pygments_lexer": "ipython3",
   "version": "3.7.3"
  }
 },
 "nbformat": 4,
 "nbformat_minor": 2
}
