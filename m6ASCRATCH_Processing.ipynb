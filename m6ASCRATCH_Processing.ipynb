{
 "cells": [
  {
   "cell_type": "code",
   "execution_count": 1,
   "metadata": {},
   "outputs": [
    {
     "name": "stderr",
     "output_type": "stream",
     "text": [
      "Using TensorFlow backend.\n"
     ]
    }
   ],
   "source": [
    "#import funcs \n",
    "from m6SCRATCH_Funcs import * "
   ]
  },
  {
   "cell_type": "code",
   "execution_count": 2,
   "metadata": {},
   "outputs": [],
   "source": [
    "#get m6A sites from multiple tables and pull only those that meet given motif criteria \n",
    "m6A_sites = readM6A(['A549_sites_hg19.bed','CD8T_sites_hg19.bed','HeLa_sites_hg19.bed'])\n",
    "m6A_RAC = verifyMotif('GRCh37.primary_assembly.genome.fa',m6A_sites,'RAC')\n",
    "m6A_RRACH = verifyMotif('GRCh37.primary_assembly.genome.fa',m6A_sites,'RRACH')\n",
    "\n",
    "m6A_RAC.to_csv('m6A_RAC.tab',sep = '\\t',header = False,index = False)\n",
    "m6A_RRACH.to_csv('m6A_RRACH.tab',sep = '\\t',header = False,index = False)"
   ]
  },
  {
   "cell_type": "code",
   "execution_count": 3,
   "metadata": {},
   "outputs": [
    {
     "name": "stderr",
     "output_type": "stream",
     "text": [
      "/Library/Frameworks/Python.framework/Versions/3.7/lib/python3.7/site-packages/pybedtools/bedtool.py:3433: UserWarning: Default names for filetype gff are:\n",
      "['seqname', 'source', 'feature', 'start', 'end', 'score', 'strand', 'frame', 'attributes']\n",
      "but file has 15 fields; you can supply custom names with the `names` kwarg\n",
      "  % (self.file_type, _names, self.field_count()))\n",
      "/Library/Frameworks/Python.framework/Versions/3.7/lib/python3.7/site-packages/pybedtools/bedtool.py:3439: FutureWarning: read_table is deprecated, use read_csv instead.\n",
      "  return pandas.read_table(self.fn, *args, **kwargs)\n",
      "/Library/Frameworks/Python.framework/Versions/3.7/lib/python3.7/site-packages/pybedtools/bedtool.py:3433: UserWarning: Default names for filetype gff are:\n",
      "['seqname', 'source', 'feature', 'start', 'end', 'score', 'strand', 'frame', 'attributes']\n",
      "but file has 15 fields; you can supply custom names with the `names` kwarg\n",
      "  % (self.file_type, _names, self.field_count()))\n",
      "/Library/Frameworks/Python.framework/Versions/3.7/lib/python3.7/site-packages/pybedtools/bedtool.py:3439: FutureWarning: read_table is deprecated, use read_csv instead.\n",
      "  return pandas.read_table(self.fn, *args, **kwargs)\n"
     ]
    }
   ],
   "source": [
    "trxts = processGff('gencode.v19.annotation.gtf')\n",
    "m6A_peaks = readM6A(['A549_peaks_hg19.bed','CD8T_peaks_hg19.bed','HeLa_peaks_hg19.bed'])\n",
    "negSites_RRACH = negsOutsidePeaks('GRCh37.primary_assembly.genome.fa', m6A_peaks, m6A_RRACH, trxts,'RRACH')\n",
    "negSites_RAC = negsOutsidePeaks('GRCh37.primary_assembly.genome.fa', m6A_peaks, m6A_RAC, trxts, 'RAC')\n",
    "\n",
    "negSites_RAC.to_csv('negSites_RAC.tab',sep = '\\t',header = False,index = False)\n",
    "negSites_RRACH.to_csv('negSites_RRACH.tab',sep = '\\t',header = False,index = False)\n"
   ]
  },
  {
   "cell_type": "code",
   "execution_count": null,
   "metadata": {},
   "outputs": [],
   "source": [
    "#read files back\n",
    "negSites=pd.read_csv('negSites_RRACH.tab',sep='\\t',comment='#',header=None)\n",
    "m6A_sites=pd.read_csv('m6A_RRACH.tab',sep='\\t',comment='#',header=None)"
   ]
  },
  {
   "cell_type": "code",
   "execution_count": null,
   "metadata": {},
   "outputs": [],
   "source": [
    "#matrix making (Training sets)\n",
    "trnInpMtxs_POS = getInputMtxs_DNA('GRCh37.primary_assembly.genome.fa',m6A_sites,5000,\n",
    "                                  [2,3,7,4,6,8,'X','Y']+list(range(10,23)))\n",
    "\n",
    "trnInpMtxs_NEG = getInputMtxs_DNA('GRCh37.primary_assembly.genome.fa',negSites,5000,\n",
    "                                  [2,3,7,4,6,8,'X','Y']+list(range(10,23)))\n",
    "\n",
    "trnInpMtxs = trnInpMtxs_POS+trnInpMtxs_NEG\n",
    "trnTgtMtxs = [1 for i in range(len(trnInpMtxs_POS))] + [0 for i in range(len(trnInpMtxs_NEG))]\n",
    "\n",
    "trnInpMtxs,trnTgtMtxs = randSubBlocks(trnInpMtxs,trnTgtMtxs)\n",
    "Mtxs_toH5Blocks(trnInpMtxs,trnTgtMtxs,100,'train')"
   ]
  },
  {
   "cell_type": "code",
   "execution_count": null,
   "metadata": {},
   "outputs": [],
   "source": [
    "#matrix making (Testing sets)\n",
    "tstInpMtxs_POS = getInputMtxs_DNA('GRCh37.primary_assembly.genome.fa', m6A_sites, 5000, [1,5,9])\n",
    "\n",
    "tstInpMtxs_NEG = getInputMtxs_DNA('GRCh37.primary_assembly.genome.fa', negSites, 5000, [1,5,9])\n",
    "\n",
    "tstInpMtxs = tstInpMtxs_POS+tstInpMtxs_NEG\n",
    "tstTgtMtxs = [1 for i in range(len(tstInpMtxs_POS))] + [0 for i in range(len(tstInpMtxs_NEG))]\n",
    "\n",
    "tstInpMtxs,tstTgtMtxs = randSubBlocks(tstInpMtxs,tstTgtMtxs)\n",
    "Mtxs_toH5Blocks(tstInpMtxs,tstTgtMtxs,100,'test')"
   ]
  }
 ],
 "metadata": {
  "kernelspec": {
   "display_name": "Python 3",
   "language": "python",
   "name": "python3"
  },
  "language_info": {
   "codemirror_mode": {
    "name": "ipython",
    "version": 3
   },
   "file_extension": ".py",
   "mimetype": "text/x-python",
   "name": "python",
   "nbconvert_exporter": "python",
   "pygments_lexer": "ipython3",
   "version": "3.7.3"
  }
 },
 "nbformat": 4,
 "nbformat_minor": 2
}
