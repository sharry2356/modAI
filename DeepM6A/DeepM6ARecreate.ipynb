{
 "cells": [
  {
   "cell_type": "code",
   "execution_count": 4,
   "metadata": {},
   "outputs": [],
   "source": [
    "import os\n",
    "import pandas as pd\n",
    "import numpy as np\n",
    "import keras\n",
    "import tensorflow as tf\n",
    "from Bio import SeqIO\n",
    "import torch \n",
    "from keras.models import Sequential, load_model, Model \n",
    "from keras.layers import Dense, Activation, Flatten, Dropout, Input, BatchNormalization, Activation, add, MaxPooling1D, Cropping1D, Bidirectional, LSTM \n",
    "from keras.layers.convolutional import Conv1D\n",
    "from sklearn.metrics import average_precision_score, precision_recall_curve\n",
    "import matplotlib.pyplot as plt \n",
    "import keras.backend as kb"
   ]
  },
  {
   "cell_type": "code",
   "execution_count": 2,
   "metadata": {},
   "outputs": [],
   "source": [
    "genomeFastaPos='/Users/harrys/Documents/DeepM6ASeqRecreate/DeepM6ASeq-master/data/data/hs/train_pos.fa'\n",
    "seqsPos=SeqIO.parse(open(genomeFastaPos),'fasta')\n",
    "genomFastaNeg='/Users/harrys/Documents/DeepM6ASeqRecreate/DeepM6ASeq-master/data/data/hs/train_neg.fa'\n",
    "seqsNeg=SeqIO.parse(open(genomFastaNeg),'fasta')\n",
    "#seqsPos=[s.name.split(':')[-1].split('(')[0] for s in seqsPos]\n",
    "#seqsNeg=[s.name.split(':')[-1].split('(')[0] for s in seqsNeg]\n",
    "Prs=[]\n",
    "i=0\n",
    "for s in seqsPos:\n",
    "    nm=s.name.split(':')[-1].split('(')[0]\n",
    "    nm=nm.split('-')\n",
    "    r=(int(nm[0]),int(nm[1]))\n",
    "    Prs=Prs+list(range(r[0],r[1]))\n",
    "    i+=1\n",
    "    if i%5000==0: break\n",
    "\n",
    "Nrs=[]\n",
    "i=0\n",
    "for s in seqsPos:\n",
    "    nm=s.name.split(':')[-1].split('(')[0]\n",
    "    nm=nm.split('-')\n",
    "    r=(int(nm[0]),int(nm[1]))\n",
    "    Nrs=Nrs+list(range(r[0],r[1]))\n",
    "    i+=1\n",
    "    if i%5000==0: break\n",
    "Prs=pd.Series(Prs)\n",
    "Nrs=pd.Series(Nrs)\n"
   ]
  },
  {
   "cell_type": "code",
   "execution_count": 3,
   "metadata": {},
   "outputs": [
    {
     "ename": "KeyboardInterrupt",
     "evalue": "",
     "output_type": "error",
     "traceback": [
      "\u001b[0;31m---------------------------------------------------------------------------\u001b[0m",
      "\u001b[0;31mKeyboardInterrupt\u001b[0m                         Traceback (most recent call last)",
      "\u001b[0;32m<ipython-input-3-ac91a1310eb2>\u001b[0m in \u001b[0;36m<module>\u001b[0;34m\u001b[0m\n\u001b[1;32m      5\u001b[0m     \u001b[0msq\u001b[0m\u001b[0;34m=\u001b[0m\u001b[0ms\u001b[0m\u001b[0;34m.\u001b[0m\u001b[0mseq\u001b[0m\u001b[0;34m\u001b[0m\u001b[0;34m\u001b[0m\u001b[0m\n\u001b[1;32m      6\u001b[0m     \u001b[0mz\u001b[0m\u001b[0;34m=\u001b[0m\u001b[0;34m[\u001b[0m\u001b[0mi\u001b[0m \u001b[0;32mfor\u001b[0m \u001b[0mi\u001b[0m \u001b[0;32min\u001b[0m \u001b[0mrange\u001b[0m\u001b[0;34m(\u001b[0m\u001b[0mlen\u001b[0m\u001b[0;34m(\u001b[0m\u001b[0msq\u001b[0m\u001b[0;34m)\u001b[0m\u001b[0;34m)\u001b[0m \u001b[0;32mif\u001b[0m \u001b[0msq\u001b[0m\u001b[0;34m[\u001b[0m\u001b[0mi\u001b[0m\u001b[0;34m]\u001b[0m\u001b[0;34m==\u001b[0m\u001b[0;34m'A'\u001b[0m\u001b[0;34m]\u001b[0m\u001b[0;34m\u001b[0m\u001b[0;34m\u001b[0m\u001b[0m\n\u001b[0;32m----> 7\u001b[0;31m     \u001b[0mss\u001b[0m\u001b[0;34m=\u001b[0m\u001b[0mss\u001b[0m\u001b[0;34m+\u001b[0m\u001b[0mz\u001b[0m\u001b[0;34m\u001b[0m\u001b[0;34m\u001b[0m\u001b[0m\n\u001b[0m",
      "\u001b[0;31mKeyboardInterrupt\u001b[0m: "
     ]
    }
   ],
   "source": [
    "genomeFastaPos='/Users/harrys/Documents/DeepM6ASeqRecreate/DeepM6ASeq-master/data/data/hs/train_pos.fa'\n",
    "seqsPos=SeqIO.parse(open(genomeFastaPos),'fasta')\n",
    "ss=[]\n",
    "for s in seqsPos:\n",
    "    sq=s.seq\n",
    "    z=[i for i in range(len(sq)) if sq[i]=='A']\n",
    "    ss=ss+z\n"
   ]
  },
  {
   "cell_type": "code",
   "execution_count": null,
   "metadata": {},
   "outputs": [],
   "source": [
    "pd.Series(ss).value_counts().sort_values()"
   ]
  },
  {
   "cell_type": "code",
   "execution_count": null,
   "metadata": {},
   "outputs": [],
   "source": [
    "genomeFastaPos='/Users/harrys/Documents/DeepM6ASeqRecreate/DeepM6ASeq-master/data/data/hs/train_pos.fa'\n",
    "seqsPos=SeqIO.parse(open(genomeFastaPos),'fasta')\n",
    "Prs=[]\n",
    "for s in seqsPos:\n",
    "    nm=s.name\n",
    "    Prs.append(nm)"
   ]
  },
  {
   "cell_type": "code",
   "execution_count": null,
   "metadata": {},
   "outputs": [],
   "source": [
    "Prs[0:]"
   ]
  },
  {
   "cell_type": "code",
   "execution_count": null,
   "metadata": {},
   "outputs": [],
   "source": [
    "#lens=pd.Series(lens)\n",
    "#lens[lens!=102]\n",
    "Prs.size"
   ]
  },
  {
   "cell_type": "code",
   "execution_count": null,
   "metadata": {},
   "outputs": [],
   "source": [
    "Prs[:30]"
   ]
  },
  {
   "cell_type": "code",
   "execution_count": null,
   "metadata": {},
   "outputs": [],
   "source": [
    "seqsPos=[s for s in seqsPos]\n",
    "seqsNeg=[s for s in seqsNeg]\n"
   ]
  },
  {
   "cell_type": "code",
   "execution_count": null,
   "metadata": {},
   "outputs": [],
   "source": [
    "seqsPos[2000:2010]"
   ]
  },
  {
   "cell_type": "code",
   "execution_count": 5,
   "metadata": {},
   "outputs": [],
   "source": [
    "def load_train_test_bicoding(pos_train_fa,neg_train_fa,pos_test_fa,neg_test_fa,vec_len):\n",
    "    data_pos_train = []\n",
    "    data_neg_train = []\n",
    "    data_pos_test = []\n",
    "    data_neg_test = []\n",
    "\n",
    "    data_pos_train = load_data_bicoding(pos_train_fa)\n",
    "    data_neg_train = load_data_bicoding(neg_train_fa)\n",
    "    data_pos_test = load_data_bicoding(pos_test_fa)\n",
    "    data_neg_test = load_data_bicoding(neg_test_fa)\n",
    "\n",
    "    data_train = np.array([_ + [1] for _ in data_pos_train] + [_ + [0] for _ in data_neg_train])\n",
    "    np.random.seed(42)\n",
    "    np.random.shuffle(data_train)\n",
    "\n",
    "    X_train = np.array([_[:-1] for _ in data_train])\n",
    "    y_train = np.array([_[-1] for _ in data_train])\n",
    "\n",
    "    X_test = np.array([_ for _ in data_pos_test] + [_ for _ in data_neg_test])\n",
    "    y_test = np.array([1 for _ in data_pos_test] + [0 for _ in data_neg_test])\n",
    "    #print(X_train.shape[1])\n",
    "    X_train = X_train.reshape(X_train.shape[0], int(X_train.shape[1]/vec_len), vec_len)\n",
    "    X_test = X_test.reshape(X_test.shape[0], int(X_test.shape[1]/vec_len), vec_len)\n",
    "    return X_train,y_train,X_test,y_test\n",
    "\n",
    "def load_data_bicoding(in_fa):\n",
    "    data=[]\n",
    "    for record in SeqIO.parse(in_fa, \"fasta\"):\n",
    "        seq=str(record.seq)\n",
    "        bicoding=convert_seq_to_bicoding(seq)\n",
    "        data.append(bicoding)\n",
    "    #print(len(data))\n",
    "    return data\n",
    "\n",
    "def convert_seq_to_bicoding(seq,wsize=101):\n",
    "    #return bicoding for a sequence\n",
    "    seq=seq.replace('U','T') #turn rna seq to dna seq if have\n",
    "    feat_bicoding=[]\n",
    "    bicoding_dict={'A':[1,0,0,0],'C':[0,1,0,0],'G':[0,0,1,0],'T':[0,0,0,1],'N':[0,0,0,0]}\n",
    "    if len(seq)<101:\n",
    "        seq=seq+'N'*(101-len(seq))\n",
    "    for each_nt in seq:\n",
    "        feat_bicoding+=bicoding_dict[each_nt]\n",
    "    return feat_bicoding\n",
    "\n"
   ]
  },
  {
   "cell_type": "code",
   "execution_count": 6,
   "metadata": {},
   "outputs": [],
   "source": [
    "os.chdir(\"/Users/harrys/Documents/DeepM6ASeqRecreate/DeepM6ASeq-master/data/data/hs/.\")"
   ]
  },
  {
   "cell_type": "code",
   "execution_count": 7,
   "metadata": {},
   "outputs": [],
   "source": [
    "X_train,y_train,X_test,y_test = load_train_test_bicoding('train_pos.fa','train_neg.fa','test_pos.fa','test_neg.fa',4)"
   ]
  },
  {
   "cell_type": "code",
   "execution_count": 8,
   "metadata": {},
   "outputs": [
    {
     "name": "stdout",
     "output_type": "stream",
     "text": [
      "(49050, 101, 4)\n",
      "(49050,)\n",
      "(12611, 101, 4)\n",
      "(12611,)\n"
     ]
    },
    {
     "data": {
      "text/plain": [
       "[None, None, None, None]"
      ]
     },
     "execution_count": 8,
     "metadata": {},
     "output_type": "execute_result"
    }
   ],
   "source": [
    "[print(i.shape) for i in [X_train,y_train,X_test,y_test]]"
   ]
  },
  {
   "cell_type": "code",
   "execution_count": 98,
   "metadata": {},
   "outputs": [],
   "source": [
    "#pad sequences (X_train and X_test) by half a filter \n",
    "def pad(X,FltW):\n",
    "    ln=X.shape[1]+FltW\n",
    "    X_pads=np.zeros((X.shape[0],ln,4))\n",
    "    low=int(FltW/2-1)\n",
    "    high=int(ln-FltW/2-1)\n",
    "    for i in range(X_pads.shape[0]):\n",
    "        X_pads[i,low:high]=X[i]\n",
    "    return X_pads"
   ]
  },
  {
   "cell_type": "code",
   "execution_count": 99,
   "metadata": {},
   "outputs": [],
   "source": [
    "def binary_crossentropy_custom(y_true, y_pred):\n",
    "    return - kb.mean(y_true*kb.log(y_pred+1e-10) + (1-y_true)*kb.log(1-y_pred+1e-10))"
   ]
  },
  {
   "cell_type": "code",
   "execution_count": 100,
   "metadata": {},
   "outputs": [
    {
     "name": "stdout",
     "output_type": "stream",
     "text": [
      "Train on 42918 samples, validate on 6132 samples\n",
      "Epoch 1/50\n",
      "42918/42918 [==============================] - 111s 3ms/step - loss: 0.6828 - val_loss: 0.6509\n",
      "Epoch 2/50\n",
      "42918/42918 [==============================] - 107s 2ms/step - loss: 0.6427 - val_loss: 0.6147\n",
      "Epoch 3/50\n",
      "42918/42918 [==============================] - 105s 2ms/step - loss: 0.6304 - val_loss: 0.6795\n",
      "Epoch 4/50\n",
      "42918/42918 [==============================] - 105s 2ms/step - loss: 0.6264 - val_loss: 0.5763\n",
      "Epoch 5/50\n",
      "42918/42918 [==============================] - 104s 2ms/step - loss: 0.5790 - val_loss: 0.5606\n",
      "Epoch 6/50\n",
      "42918/42918 [==============================] - 105s 2ms/step - loss: 0.5522 - val_loss: 0.5300\n",
      "Epoch 7/50\n",
      "42918/42918 [==============================] - 104s 2ms/step - loss: 0.5395 - val_loss: 0.5348\n",
      "Epoch 8/50\n",
      "42918/42918 [==============================] - 109s 3ms/step - loss: 0.5286 - val_loss: 0.5233\n",
      "Epoch 9/50\n",
      "42918/42918 [==============================] - 110s 3ms/step - loss: 0.5220 - val_loss: 0.5157\n",
      "Epoch 10/50\n",
      "42918/42918 [==============================] - 108s 3ms/step - loss: 0.5165 - val_loss: 0.5152\n",
      "Epoch 11/50\n",
      "42918/42918 [==============================] - 106s 2ms/step - loss: 0.5157 - val_loss: 0.5151\n",
      "Epoch 12/50\n",
      "42918/42918 [==============================] - 107s 2ms/step - loss: 0.5130 - val_loss: 0.5146\n",
      "Epoch 13/50\n",
      "42918/42918 [==============================] - 107s 3ms/step - loss: 0.5114 - val_loss: 0.5146\n",
      "Epoch 14/50\n",
      "42918/42918 [==============================] - 108s 3ms/step - loss: 0.5068 - val_loss: 0.5095\n",
      "Epoch 15/50\n",
      "42918/42918 [==============================] - 110s 3ms/step - loss: 0.5031 - val_loss: 0.5092\n",
      "Epoch 16/50\n",
      "42918/42918 [==============================] - 109s 3ms/step - loss: 0.5029 - val_loss: 0.5136\n",
      "Epoch 17/50\n",
      "42918/42918 [==============================] - 109s 3ms/step - loss: 0.5020 - val_loss: 0.5058\n",
      "Epoch 18/50\n",
      "42918/42918 [==============================] - 110s 3ms/step - loss: 0.4969 - val_loss: 0.5028\n",
      "Epoch 19/50\n",
      "42918/42918 [==============================] - 108s 3ms/step - loss: 0.4938 - val_loss: 0.5075\n",
      "Epoch 20/50\n",
      "42918/42918 [==============================] - 109s 3ms/step - loss: 0.4934 - val_loss: 0.5067\n",
      "Epoch 21/50\n",
      "42918/42918 [==============================] - 108s 3ms/step - loss: 0.4925 - val_loss: 0.5088\n",
      "Epoch 22/50\n",
      "42918/42918 [==============================] - 107s 3ms/step - loss: 0.4904 - val_loss: 0.5047\n",
      "Epoch 23/50\n",
      "42918/42918 [==============================] - 108s 3ms/step - loss: 0.4878 - val_loss: 0.5048\n"
     ]
    }
   ],
   "source": [
    "X_train=pad(X_train,10)\n",
    "X_test=pad(X_test,10)\n",
    "\n",
    "inputs = Input(shape=(None,4))\n",
    "z=Conv1D(256,kernel_size=10,padding='valid',activation='relu')(inputs)\n",
    "z=BatchNormalization()(z)\n",
    "z=Dropout(0.5)(z)\n",
    "z=Conv1D(128,kernel_size=5,padding='valid',activation='relu')(z)\n",
    "z=BatchNormalization()(z)\n",
    "z=Dropout(0.5)(z)\n",
    "z=Bidirectional(LSTM(64,activation='tanh'))(z)\n",
    "z=Dense(64,activation='relu')(z)\n",
    "predictions=Dense(1,activation='sigmoid')(z)\n",
    "\n",
    "model = Model(inputs,predictions)\n",
    "#default lr of adam is 0.001 \n",
    "model.compile(optimizer='adam',loss=binary_crossentropy_custom)\n",
    "\n",
    "hstry = keras.callbacks.History()\n",
    "earlyStop = keras.callbacks.EarlyStopping(monitor='val_loss',patience=5,restore_best_weights=True)\n",
    "mcp = keras.callbacks.ModelCheckpoint('model_weights.hdf5',monitor = 'val_loss',save_best_only = True)\n",
    "\n",
    "#50 epochs \n",
    "model.fit(X_train,y_train,batch_size=256,epochs=50,validation_split=0.125,\n",
    "          callbacks=[hstry,mcp,earlyStop],verbose=1)\n",
    "#save model \n",
    "json_string = model.to_json()\n",
    "open('model_arch.json', 'w').write(json_string)\n",
    "model.save_weights('model_weights.h5')\n"
   ]
  },
  {
   "cell_type": "code",
   "execution_count": 101,
   "metadata": {},
   "outputs": [
    {
     "name": "stdout",
     "output_type": "stream",
     "text": [
      "_________________________________________________________________\n",
      "Layer (type)                 Output Shape              Param #   \n",
      "=================================================================\n",
      "input_18 (InputLayer)        (None, None, 4)           0         \n",
      "_________________________________________________________________\n",
      "conv1d_35 (Conv1D)           (None, None, 256)         10496     \n",
      "_________________________________________________________________\n",
      "batch_normalization_35 (Batc (None, None, 256)         1024      \n",
      "_________________________________________________________________\n",
      "dropout_35 (Dropout)         (None, None, 256)         0         \n",
      "_________________________________________________________________\n",
      "conv1d_36 (Conv1D)           (None, None, 128)         163968    \n",
      "_________________________________________________________________\n",
      "batch_normalization_36 (Batc (None, None, 128)         512       \n",
      "_________________________________________________________________\n",
      "dropout_36 (Dropout)         (None, None, 128)         0         \n",
      "_________________________________________________________________\n",
      "bidirectional_18 (Bidirectio (None, 128)               98816     \n",
      "_________________________________________________________________\n",
      "dense_34 (Dense)             (None, 64)                8256      \n",
      "_________________________________________________________________\n",
      "dense_35 (Dense)             (None, 1)                 65        \n",
      "=================================================================\n",
      "Total params: 283,137\n",
      "Trainable params: 282,369\n",
      "Non-trainable params: 768\n",
      "_________________________________________________________________\n"
     ]
    }
   ],
   "source": [
    "model.summary()"
   ]
  },
  {
   "cell_type": "code",
   "execution_count": 102,
   "metadata": {},
   "outputs": [
    {
     "data": {
      "text/plain": [
       "'0.758839384810528,0.8201664510427521'"
      ]
     },
     "execution_count": 102,
     "metadata": {},
     "output_type": "execute_result"
    }
   ],
   "source": [
    "#calculate top-k and PR-AUC accuracies for SDs and SAs (seperatly)\n",
    "p=model.predict(X_test)\n",
    "p=p[:,0]\n",
    "yT=[i for i in range(len(y_test)) if y_test[i] == 1]\n",
    "pS=np.argsort(p)[-len(yT):]\n",
    "pS=pd.Series(pS)\n",
    "nCrct=pS[pS.isin(yT)].size\n",
    "Tk=nCrct/len(yT)\n",
    "\n",
    "PR=average_precision_score(y_test,p)\n",
    "\n",
    "writeAccs=str(Tk)+','+str(PR)\n",
    "open('Tks_PRs.txt', 'w').write(writeAccs)\n",
    "writeAccs"
   ]
  },
  {
   "cell_type": "code",
   "execution_count": 103,
   "metadata": {},
   "outputs": [
    {
     "data": {
      "text/plain": [
       "0.0066534877"
      ]
     },
     "execution_count": 103,
     "metadata": {},
     "output_type": "execute_result"
    }
   ],
   "source": [
    "np.min(p)"
   ]
  },
  {
   "cell_type": "code",
   "execution_count": 104,
   "metadata": {},
   "outputs": [
    {
     "data": {
      "text/plain": [
       "Text(0.5, 1.0, 'DeepM6A performance')"
      ]
     },
     "execution_count": 104,
     "metadata": {},
     "output_type": "execute_result"
    },
    {
     "data": {
      "image/png": "[encoded data removed]",
      "text/plain": [
       "<Figure size 432x288 with 1 Axes>"
      ]
     },
     "metadata": {
      "needs_background": "light"
     },
     "output_type": "display_data"
    }
   ],
   "source": [
    "# graph Precision Recall of Splice Donor sites\n",
    "precision, recall, _ = precision_recall_curve(y_test,p)\n",
    "\n",
    "\n",
    "plt.step(recall, precision, color='b', alpha=0.2,\n",
    "         where='post')\n",
    "plt.fill_between(recall, precision, alpha=0.2, color='b')\n",
    "plt.plot([0,1],[PR,PR])\n",
    "\n",
    "plt.xlabel('Recall')\n",
    "plt.ylabel('Precision')\n",
    "plt.ylim([0.0, 1.05])\n",
    "plt.xlim([0.0, 1.0])\n",
    "plt.title('DeepM6A performance')"
   ]
  },
  {
   "cell_type": "code",
   "execution_count": 29,
   "metadata": {},
   "outputs": [
    {
     "data": {
      "text/plain": [
       "52    22\n",
       "73    22\n",
       "61    21\n",
       "72    19\n",
       "98    19\n",
       "31    19\n",
       "42    18\n",
       "47    18\n",
       "39    18\n",
       "83    18\n",
       "85    18\n",
       "84    17\n",
       "41    17\n",
       "99    17\n",
       "36    17\n",
       "34    17\n",
       "44    17\n",
       "86    17\n",
       "8     17\n",
       "91    17\n",
       "64    16\n",
       "48    16\n",
       "53    16\n",
       "54    16\n",
       "57    16\n",
       "92    16\n",
       "62    16\n",
       "63    16\n",
       "21    16\n",
       "27    15\n",
       "      ..\n",
       "46    12\n",
       "70    12\n",
       "96    12\n",
       "68    12\n",
       "4     12\n",
       "38    12\n",
       "56    12\n",
       "14    11\n",
       "66    11\n",
       "20    11\n",
       "58    11\n",
       "88    11\n",
       "87    11\n",
       "3     10\n",
       "2     10\n",
       "79    10\n",
       "26    10\n",
       "28    10\n",
       "74    10\n",
       "65    10\n",
       "59    10\n",
       "50    10\n",
       "17     9\n",
       "80     9\n",
       "22     9\n",
       "76     9\n",
       "69     9\n",
       "67     9\n",
       "1      8\n",
       "6      6\n",
       "Length: 101, dtype: int64"
      ]
     },
     "execution_count": 29,
     "metadata": {},
     "output_type": "execute_result"
    }
   ],
   "source": [
    "ones=[_ for _ in range(100) if y_train[_] == 1]\n",
    "\n",
    "fulls=[]\n",
    "for x in ones:\n",
    "    fulls = fulls + [n for n in range(X_train[x].shape[0]) if X_train[x,n,0] ==1]\n",
    "pd.Series(fulls).value_counts()"
   ]
  },
  {
   "cell_type": "code",
   "execution_count": 31,
   "metadata": {},
   "outputs": [
    {
     "data": {
      "text/plain": [
       "49"
      ]
     },
     "execution_count": 31,
     "metadata": {},
     "output_type": "execute_result"
    }
   ],
   "source": [
    "len(ones)"
   ]
  },
  {
   "cell_type": "code",
   "execution_count": null,
   "metadata": {},
   "outputs": [],
   "source": []
  }
 ],
 "metadata": {
  "kernelspec": {
   "display_name": "Python 3",
   "language": "python",
   "name": "python3"
  },
  "language_info": {
   "codemirror_mode": {
    "name": "ipython",
    "version": 3
   },
   "file_extension": ".py",
   "mimetype": "text/x-python",
   "name": "python",
   "nbconvert_exporter": "python",
   "pygments_lexer": "ipython3",
   "version": "3.7.3"
  }
 },
 "nbformat": 4,
 "nbformat_minor": 2
}
